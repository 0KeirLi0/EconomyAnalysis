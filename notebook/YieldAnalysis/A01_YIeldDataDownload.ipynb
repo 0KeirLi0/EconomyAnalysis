{
 "cells": [
  {
   "cell_type": "code",
   "execution_count": 104,
   "id": "227e5915",
   "metadata": {},
   "outputs": [],
   "source": [
    "import yfinance as yf\n",
    "import pandas as pd\n",
    "import requests\n",
    "import matplotlib.pyplot as plt\n",
    "import matplotlib.dates as mdates"
   ]
  },
  {
   "cell_type": "markdown",
   "id": "3b9fa502",
   "metadata": {},
   "source": [
    "# DATA REQUEST"
   ]
  },
  {
   "cell_type": "code",
   "execution_count": 6,
   "id": "bb76070c",
   "metadata": {},
   "outputs": [],
   "source": [
    "# INITIALIZATION\n",
    "pageSize = 100\n",
    "startDate = \"2025-01-01\"\n",
    "endDate = \"2025-08-10\""
   ]
  },
  {
   "cell_type": "code",
   "execution_count": null,
   "id": "84cdf699",
   "metadata": {},
   "outputs": [],
   "source": [
    "# HKMA API URLs for yield data\n",
    "hibor_url = f\"https://api.hkma.gov.hk/public/market-data-and-statistics/monthly-statistical-bulletin/er-ir/hk-interbank-ir-daily?pagesize={pageSize}&from={startDate}&to={endDate}\"\n",
    "# efbn_url = f\"https://api.hkma.gov.hk/public/market-data-and-statistics/monthly-statistical-bulletin/efbn/efbn-yield-daily?pagesize={pageSize}&from={startDate}&to={endDate}\""
   ]
  },
  {
   "cell_type": "code",
   "execution_count": 174,
   "id": "6b0f4757",
   "metadata": {},
   "outputs": [],
   "source": [
    "hibor_response = requests.get(hibor_url).json()\n",
    "# efbn_response = requests.get(efbn_url).json()"
   ]
  },
  {
   "cell_type": "code",
   "execution_count": 175,
   "id": "01bf2772",
   "metadata": {},
   "outputs": [],
   "source": [
    "hibor_df = pd.DataFrame(hibor_response['result']['records'])\n",
    "# efbn_df = pd.DataFrame(efbn_response['result']['records'])\n",
    "\n",
    "hibor_df['end_of_day'] = pd.to_datetime(hibor_df['end_of_day'])\n",
    "# efbn_df['end_of_day'] = pd.to_datetime(efbn_df['end_of_day'])\n"
   ]
  },
  {
   "cell_type": "code",
   "execution_count": 176,
   "id": "546bd721",
   "metadata": {},
   "outputs": [],
   "source": [
    "melted_hibor = pd.melt(\n",
    "    hibor_df,\n",
    "    id_vars=['end_of_day'],\n",
    "    value_vars=['ir_overnight', 'ir_1w', 'ir_1m', 'ir_3m', 'ir_6m', 'ir_9m', 'ir_12m'],\n",
    "    var_name='duration',\n",
    "    value_name='yield'\n",
    ")"
   ]
  },
  {
   "cell_type": "code",
   "execution_count": 177,
   "id": "9b80f666",
   "metadata": {},
   "outputs": [],
   "source": [
    "duration_mapping = {\n",
    "    'ir_overnight': '0.033',\n",
    "    'ir_1w': '0.233',\n",
    "    'ir_1m': '1',\n",
    "    'ir_3m': '3',\n",
    "    'ir_6m': '6',\n",
    "    'ir_9m': '9',\n",
    "    'ir_12m': '12'\n",
    "}\n",
    "\n",
    "melted_hibor['duration'] = melted_hibor['duration'].map(duration_mapping)\n",
    "\n",
    "melted_hibor.sort_values(by=['end_of_day', 'duration'], inplace=True)"
   ]
  },
  {
   "cell_type": "code",
   "execution_count": 198,
   "id": "5bf4d9e2",
   "metadata": {},
   "outputs": [],
   "source": [
    "melted_hibor['D']= (melted_hibor['end_of_day']-melted_hibor['end_of_day'][0]).dt.days"
   ]
  },
  {
   "cell_type": "code",
   "execution_count": 205,
   "id": "0040b28e",
   "metadata": {},
   "outputs": [
    {
     "data": {
      "text/html": [
       "<div>\n",
       "<style scoped>\n",
       "    .dataframe tbody tr th:only-of-type {\n",
       "        vertical-align: middle;\n",
       "    }\n",
       "\n",
       "    .dataframe tbody tr th {\n",
       "        vertical-align: top;\n",
       "    }\n",
       "\n",
       "    .dataframe thead th {\n",
       "        text-align: right;\n",
       "    }\n",
       "</style>\n",
       "<table border=\"1\" class=\"dataframe\">\n",
       "  <thead>\n",
       "    <tr style=\"text-align: right;\">\n",
       "      <th></th>\n",
       "      <th>end_of_day</th>\n",
       "      <th>duration</th>\n",
       "      <th>yield</th>\n",
       "      <th>D</th>\n",
       "    </tr>\n",
       "  </thead>\n",
       "  <tbody>\n",
       "    <tr>\n",
       "      <th>99</th>\n",
       "      <td>2025-03-06</td>\n",
       "      <td>0.033</td>\n",
       "      <td>2.93238</td>\n",
       "      <td>-147</td>\n",
       "    </tr>\n",
       "    <tr>\n",
       "      <th>199</th>\n",
       "      <td>2025-03-06</td>\n",
       "      <td>0.233</td>\n",
       "      <td>3.25018</td>\n",
       "      <td>-147</td>\n",
       "    </tr>\n",
       "    <tr>\n",
       "      <th>299</th>\n",
       "      <td>2025-03-06</td>\n",
       "      <td>1</td>\n",
       "      <td>3.84149</td>\n",
       "      <td>-147</td>\n",
       "    </tr>\n",
       "    <tr>\n",
       "      <th>699</th>\n",
       "      <td>2025-03-06</td>\n",
       "      <td>12</td>\n",
       "      <td>4.10994</td>\n",
       "      <td>-147</td>\n",
       "    </tr>\n",
       "    <tr>\n",
       "      <th>399</th>\n",
       "      <td>2025-03-06</td>\n",
       "      <td>3</td>\n",
       "      <td>3.96958</td>\n",
       "      <td>-147</td>\n",
       "    </tr>\n",
       "    <tr>\n",
       "      <th>...</th>\n",
       "      <td>...</td>\n",
       "      <td>...</td>\n",
       "      <td>...</td>\n",
       "      <td>...</td>\n",
       "    </tr>\n",
       "    <tr>\n",
       "      <th>200</th>\n",
       "      <td>2025-07-31</td>\n",
       "      <td>1</td>\n",
       "      <td>1.03363</td>\n",
       "      <td>0</td>\n",
       "    </tr>\n",
       "    <tr>\n",
       "      <th>600</th>\n",
       "      <td>2025-07-31</td>\n",
       "      <td>12</td>\n",
       "      <td>2.80185</td>\n",
       "      <td>0</td>\n",
       "    </tr>\n",
       "    <tr>\n",
       "      <th>300</th>\n",
       "      <td>2025-07-31</td>\n",
       "      <td>3</td>\n",
       "      <td>1.6175</td>\n",
       "      <td>0</td>\n",
       "    </tr>\n",
       "    <tr>\n",
       "      <th>400</th>\n",
       "      <td>2025-07-31</td>\n",
       "      <td>6</td>\n",
       "      <td>2.26839</td>\n",
       "      <td>0</td>\n",
       "    </tr>\n",
       "    <tr>\n",
       "      <th>500</th>\n",
       "      <td>2025-07-31</td>\n",
       "      <td>9</td>\n",
       "      <td>None</td>\n",
       "      <td>0</td>\n",
       "    </tr>\n",
       "  </tbody>\n",
       "</table>\n",
       "<p>700 rows × 4 columns</p>\n",
       "</div>"
      ],
      "text/plain": [
       "    end_of_day duration    yield    D\n",
       "99  2025-03-06    0.033  2.93238 -147\n",
       "199 2025-03-06    0.233  3.25018 -147\n",
       "299 2025-03-06        1  3.84149 -147\n",
       "699 2025-03-06       12  4.10994 -147\n",
       "399 2025-03-06        3  3.96958 -147\n",
       "..         ...      ...      ...  ...\n",
       "200 2025-07-31        1  1.03363    0\n",
       "600 2025-07-31       12  2.80185    0\n",
       "300 2025-07-31        3   1.6175    0\n",
       "400 2025-07-31        6  2.26839    0\n",
       "500 2025-07-31        9     None    0\n",
       "\n",
       "[700 rows x 4 columns]"
      ]
     },
     "execution_count": 205,
     "metadata": {},
     "output_type": "execute_result"
    }
   ],
   "source": [
    "melted_hibor"
   ]
  },
  {
   "cell_type": "markdown",
   "id": "86b3debb",
   "metadata": {},
   "source": []
  },
  {
   "cell_type": "code",
   "execution_count": null,
   "id": "43e16431",
   "metadata": {},
   "outputs": [],
   "source": []
  }
 ],
 "metadata": {
  "kernelspec": {
   "display_name": ".venv",
   "language": "python",
   "name": "python3"
  },
  "language_info": {
   "codemirror_mode": {
    "name": "ipython",
    "version": 3
   },
   "file_extension": ".py",
   "mimetype": "text/x-python",
   "name": "python",
   "nbconvert_exporter": "python",
   "pygments_lexer": "ipython3",
   "version": "3.12.7"
  }
 },
 "nbformat": 4,
 "nbformat_minor": 5
}
