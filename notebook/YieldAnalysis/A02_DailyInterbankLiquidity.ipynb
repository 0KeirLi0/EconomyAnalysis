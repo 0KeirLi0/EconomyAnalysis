{
 "cells": [
  {
   "cell_type": "markdown",
   "id": "4a5b6144",
   "metadata": {},
   "source": [
    "# 0. Setup"
   ]
  },
  {
   "cell_type": "code",
   "execution_count": null,
   "id": "3957b746",
   "metadata": {},
   "outputs": [],
   "source": [
    "import pandas as pd\n",
    "import requests\n",
    "import json\n",
    "import datetime as dt\n",
    "import plotly.express as px\n",
    "import plotly.graph_objects as go\n",
    "import os\n",
    "import yfinance as yf"
   ]
  },
  {
   "cell_type": "markdown",
   "id": "bcaedd1e",
   "metadata": {},
   "source": [
    "# 1. API Request"
   ]
  },
  {
   "cell_type": "code",
   "execution_count": null,
   "id": "67acb78f",
   "metadata": {},
   "outputs": [],
   "source": [
    "url = 'https://api.hkma.gov.hk/public/market-data-and-statistics/daily-monetary-statistics/daily-figures-interbank-liquidity?offset=0&pagesize=999&sortby=end_of_date&sortorder=desc'\n",
    "response = requests.get(url).text\n",
    "response = json.loads(response)\n",
    "df = pd.DataFrame(response['result']['records'])\n",
    "df['end_of_date'] = pd.to_datetime(df['end_of_date'])"
   ]
  },
  {
   "cell_type": "code",
   "execution_count": null,
   "id": "4cc8f407",
   "metadata": {},
   "outputs": [],
   "source": [
    "df"
   ]
  },
  {
   "cell_type": "markdown",
   "id": "ffcb8b9f",
   "metadata": {},
   "source": [
    "# 2.0 HIBOR & Liquidity"
   ]
  },
  {
   "cell_type": "markdown",
   "id": "b3551567",
   "metadata": {},
   "source": [
    "## 2.1 HIBOR (Overnight & 1-Month)"
   ]
  },
  {
   "cell_type": "code",
   "execution_count": null,
   "id": "48a7e1f6",
   "metadata": {},
   "outputs": [],
   "source": [
    "hibor_df = df[['end_of_date', 'hibor_overnight', 'hibor_fixing_1m']]"
   ]
  },
  {
   "cell_type": "code",
   "execution_count": null,
   "id": "f1ae5811",
   "metadata": {},
   "outputs": [],
   "source": [
    "hibor_fig = px.line(hibor_df,\n",
    "             x='end_of_date', y=['hibor_overnight', 'hibor_fixing_1m'],\n",
    "             title='HIBOR Rates (Overnight & 1-Month)',\n",
    "             labels={'end_of_date': 'Date', 'value': 'HIBOR Rate (%)'},\n",
    "             )\n",
    "\n",
    "last_date = hibor_df['end_of_date'].iloc[0]\n",
    "last_overnight = hibor_df['hibor_overnight'].iloc[0]\n",
    "last_1m = hibor_df['hibor_fixing_1m'].iloc[0]\n",
    "\n",
    "hibor_fig.add_annotation(\n",
    "    text=f\"Date: {last_date.strftime('%Y-%m-%d')}<br>Overnight: {last_overnight}%<br>1M: {last_1m}%\",\n",
    "    xref=\"paper\", yref=\"paper\",\n",
    "    x=1, y=1.2,  \n",
    "    showarrow=False,\n",
    "    bgcolor=\"rgba(1, 108, 2, 1)\",\n",
    "    borderwidth=2,\n",
    "    font=dict(size=12, color=\"white\")\n",
    ")\n",
    "\n",
    "hibor_fig.update_layout(\n",
    "    xaxis_rangeslider_visible=True,\n",
    ")\n",
    "\n",
    "hibor_fig.show()"
   ]
  },
  {
   "cell_type": "markdown",
   "id": "51f19109",
   "metadata": {},
   "source": [
    "## 2.2 Aggregate Balance Open & Close"
   ]
  },
  {
   "cell_type": "code",
   "execution_count": null,
   "id": "680a69d9",
   "metadata": {},
   "outputs": [],
   "source": [
    "aggreBal_df = df[['end_of_date', 'opening_balance', 'closing_balance']].head(200)\n",
    "aggreBal_df['day_change'] = aggreBal_df['closing_balance'] - aggreBal_df['opening_balance']\n",
    "aggreBal_df['high'] = aggreBal_df[['opening_balance', 'closing_balance']].max(axis=1)\n",
    "aggreBal_df['low'] = aggreBal_df[['opening_balance', 'closing_balance']].min(axis=1)\n",
    "aggreBal_df"
   ]
  },
  {
   "cell_type": "code",
   "execution_count": null,
   "id": "a4758f01",
   "metadata": {},
   "outputs": [],
   "source": [
    "aggreBal_fig = go.Figure(data=[go.Candlestick(\n",
    "    x=aggreBal_df['end_of_date'],\n",
    "    open=aggreBal_df['opening_balance'],\n",
    "    high=aggreBal_df['high'],\n",
    "    low=aggreBal_df['low'],\n",
    "    close=aggreBal_df['closing_balance'],\n",
    "    name='Aggregate Balance',\n",
    "    showlegend=True,\n",
    ")])\n",
    "\n",
    "last_date = aggreBal_df['end_of_date'].iloc[0]\n",
    "last_open = aggreBal_df['opening_balance'].iloc[0]\n",
    "last_close = aggreBal_df['closing_balance'].iloc[0]\n",
    "last_day_change = aggreBal_df['day_change'].iloc[0]\n",
    "\n",
    "aggreBal_fig.add_annotation(\n",
    "    text=f\"Date: {last_date.strftime('%Y-%m-%d')}<br>Open: {last_open}<br>Close: {last_close}<br>Change: {last_day_change}\",\n",
    "    xref=\"paper\", yref=\"paper\",\n",
    "    x=1, y=1.2,\n",
    "    showarrow=False,\n",
    "    bgcolor=\"rgba(0, 78, 123, 1)\",\n",
    "    borderwidth=2,\n",
    "    font=dict(size=12, color=\"white\")\n",
    ")\n",
    "\n",
    "aggreBal_fig.update_layout(\n",
    "    xaxis_rangeslider_visible=True,\n",
    "    title=\"Hong Kong Aggregate Balance (Candlestick)\",\n",
    "    xaxis_title=\"Date\",\n",
    "    yaxis_title=\"Balance (HKD Million)\",\n",
    ")\n",
    "aggreBal_fig.show()"
   ]
  },
  {
   "cell_type": "markdown",
   "id": "9e7fb161",
   "metadata": {},
   "source": [
    "# 3.0 FX"
   ]
  },
  {
   "cell_type": "markdown",
   "id": "d2f17eac",
   "metadata": {},
   "source": [
    "# 3.1 Convertibility Undertaking (CU)"
   ]
  },
  {
   "cell_type": "code",
   "execution_count": null,
   "id": "000c04f1",
   "metadata": {},
   "outputs": [],
   "source": [
    "usdhkd = yf.Ticker(\"HKD=X\")\n",
    "usdhkd_df = usdhkd.history(period ='max').reset_index()\n",
    "usdhkd_df['Date'] = pd.to_datetime(usdhkd_df['Date'], format='%Y-%m-%d')\n",
    "usdhkd_df = usdhkd_df[['Date', 'Close']]\n",
    "usdhkd_df = usdhkd_df.rename(columns={'Date': 'end_of_date', 'Close': 'usdhkd_close'})\n",
    "usdhkd_df['end_of_date'] = pd.to_datetime(usdhkd_df['end_of_date'])\n",
    "usdhkd_df.set_index('end_of_date', inplace=True)\n",
    "usdhkd_df.index = usdhkd_df.index.tz_localize(None)"
   ]
  },
  {
   "cell_type": "code",
   "execution_count": null,
   "id": "21586ee1",
   "metadata": {},
   "outputs": [],
   "source": [
    "cu_df = df[['end_of_date', 'cu_weakside', \"cu_strongside\"]]\n",
    "cu_df['end_of_date'] = pd.to_datetime(cu_df['end_of_date'])\n",
    "cu_df = cu_df.set_index('end_of_date').join(usdhkd_df, on='end_of_date', how='left')"
   ]
  },
  {
   "cell_type": "code",
   "execution_count": null,
   "id": "fd97fe00",
   "metadata": {},
   "outputs": [],
   "source": [
    "cu_df = cu_df.reset_index()\n",
    "cu_df.sort_values(by='end_of_date', ascending=False, inplace=True)\n",
    "cu_df"
   ]
  },
  {
   "cell_type": "code",
   "execution_count": null,
   "id": "aa40238c",
   "metadata": {},
   "outputs": [],
   "source": [
    "cu_fig = px.line(cu_df,\n",
    "             x='end_of_date', y=['usdhkd_close', 'cu_weakside', 'cu_strongside'],\n",
    "             title='USD/HKD and Currency Pegs',\n",
    "             labels={'end_of_date': 'Date', 'value': 'Value (HKD)'},\n",
    "             )\n",
    "\n",
    "\n",
    "last_date = cu_df['end_of_date'].iloc[0]\n",
    "last_usdhkd_close = round(cu_df['usdhkd_close'].iloc[0],4)\n",
    "\n",
    "cu_fig.add_annotation(\n",
    "    text=f\"Date: {last_date.strftime('%Y-%m-%d')}<br>usdhkd: {last_usdhkd_close}\",\n",
    "    xref=\"paper\", yref=\"paper\",\n",
    "    x=1, y=1.2, \n",
    "    showarrow=False,\n",
    "    bgcolor=\"rgba(108, 1, 2, 1)\",\n",
    "    borderwidth=2,\n",
    "    font=dict(size=12, color=\"white\")\n",
    ")\n",
    "\n",
    "cu_fig.update_layout(\n",
    "    xaxis_rangeslider_visible=True,\n",
    ")\n",
    "\n",
    "cu_fig.show()"
   ]
  },
  {
   "cell_type": "markdown",
   "id": "3a64210f",
   "metadata": {},
   "source": [
    "# 3.2 Trade-Weighted Index, TWI"
   ]
  },
  {
   "cell_type": "code",
   "execution_count": null,
   "id": "c822e84b",
   "metadata": {},
   "outputs": [],
   "source": [
    "hkdtwi_df = df[['end_of_date', 'twi']]"
   ]
  },
  {
   "cell_type": "code",
   "execution_count": null,
   "id": "7036e64d",
   "metadata": {},
   "outputs": [],
   "source": [
    "hkdtwi_fig = px.line(hkdtwi_df,\n",
    "             x='end_of_date', y='twi',\n",
    "             title='HKD Trade-Weighted Index (TWI)',\n",
    "             labels={'end_of_date': 'Date', 'value': 'Value'},\n",
    "             )\n",
    "\n",
    "\n",
    "last_date = hkdtwi_df['end_of_date'].iloc[0]\n",
    "last_twi = hkdtwi_df['twi'].iloc[0]\n",
    "\n",
    "hkdtwi_fig.add_annotation(\n",
    "    text=f\"Date: {last_date.strftime('%Y-%m-%d')}<br>TWI(HKD): {last_twi}\",\n",
    "    xref=\"paper\", yref=\"paper\",\n",
    "    x=1, y=1.2,\n",
    "    showarrow=False,\n",
    "    bgcolor=\"rgba(156, 33, 315, 1)\",\n",
    "    borderwidth=2,\n",
    "    font=dict(size=12, color=\"white\")\n",
    ")\n",
    "\n",
    "hkdtwi_fig.update_layout(\n",
    "    xaxis_rangeslider_visible=True,\n",
    ")\n",
    "\n",
    "hkdtwi_fig.show()"
   ]
  },
  {
   "cell_type": "markdown",
   "id": "be2a338d",
   "metadata": {},
   "source": [
    "# 4.0 Stock Market"
   ]
  },
  {
   "cell_type": "code",
   "execution_count": null,
   "id": "092ab877",
   "metadata": {},
   "outputs": [],
   "source": [
    "hsi = yf.Ticker(\"^HSI\")\n",
    "hsi_df = hsi.history(period ='10y').reset_index()\n",
    "hsi_df.set_index('Date', inplace=True)\n",
    "hsi_df.index = hsi_df.index.tz_localize(None)\n",
    "hsi_df.sort_values(by='Date', ascending=False, inplace=True)\n",
    "hsi_df['day_change'] = hsi_df['Close'] - hsi_df['Open']\n",
    "hsi_df = hsi_df.reset_index()\n",
    "hsi_df"
   ]
  },
  {
   "cell_type": "code",
   "execution_count": null,
   "id": "a0e8f1af",
   "metadata": {},
   "outputs": [],
   "source": [
    "hsi_fig = px.line(hsi_df,\n",
    "             x='Date', y='Close',\n",
    "             title='HSI',\n",
    "             labels={'Date': 'Date', 'value': 'Value'},\n",
    "             )\n",
    "\n",
    "\n",
    "last_date = hsi_df['Date'].iloc[0]\n",
    "last_hsi = round(hsi_df['Close'].iloc[0],2)\n",
    "\n",
    "hsi_fig.add_annotation(\n",
    "    text=f\"Date: {last_date.strftime('%Y-%m-%d')}<br>Index(HKD): {last_hsi}\",\n",
    "    xref=\"paper\", yref=\"paper\",\n",
    "    x=1, y=1.2, \n",
    "    showarrow=False,\n",
    "    bgcolor=\"rgba(156, 33, 315, 1)\",\n",
    "    borderwidth=2,\n",
    "    font=dict(size=12, color=\"white\")\n",
    ")\n",
    "\n",
    "hsi_fig.update_layout(\n",
    "    xaxis_rangeslider_visible=True,\n",
    ")\n",
    "\n",
    "hsi_fig.show()"
   ]
  },
  {
   "cell_type": "code",
   "execution_count": null,
   "id": "58915373",
   "metadata": {},
   "outputs": [],
   "source": [
    "# hibor_fig.write_html('assets/hibor_fig.html')\n",
    "# aggreBal_fig.write_html('assets/aggreBal_fig.html')\n",
    "# cu_fig.write_html('assets/cu_fig.html')\n",
    "# hkdtwi_fig.write_html('assets/hkdtwi_fig.html')\n",
    "# hsi_fig.write_html('assets/hsi_fig.html')"
   ]
  },
  {
   "cell_type": "code",
   "execution_count": null,
   "id": "bb688360",
   "metadata": {},
   "outputs": [],
   "source": [
    "figs = [\n",
    "    (hsi_fig, \"HSI\"),\n",
    "    (hibor_fig, \"HIBOR\"),\n",
    "    (aggreBal_fig, \"AggreBal\"),\n",
    "    (cu_fig, \"Currency\"),\n",
    "    (hkdtwi_fig, \"HKDTWI\"),\n",
    "]\n",
    "\n",
    "html = \"\"\"<!DOCTYPE html>\n",
    "<html>\n",
    "<head>\n",
    "    <meta charset=\"UTF-8\">\n",
    "    <title>Charts</title>\n",
    "    <script src=\"https://cdn.plot.ly/plotly-latest.min.js\"></script>\n",
    "    <style>\n",
    "        body { margin: 20px; text-align: center; }\n",
    "        div { margin: 30px auto; width: 80%; }\n",
    "    </style>\n",
    "</head>\n",
    "<body>\n",
    "    <h1>Charts</h1>\n",
    "\"\"\"\n",
    "for i, (fig, title) in enumerate(figs, 1):\n",
    "    html += \"<hr>\\n\"\n",
    "    html += f\"<h2>{title}</h2>\\n\"\n",
    "    html += fig.to_html(full_html=False, div_id=f\"chart{i}\", include_plotlyjs=True)\n",
    "\n",
    "html += \"</body>\\n</html>\"\n",
    "output_path = os.path.abspath(os.path.join(os.path.abspath(os.path.join(os.getcwd(), \"..\")), \"..\"))+ \"/docs/charts.html\"\n",
    "with open(output_path, \"w\", encoding=\"utf-8\") as f:\n",
    "    f.write(html)"
   ]
  },
  {
   "cell_type": "code",
   "execution_count": null,
   "id": "da335356",
   "metadata": {},
   "outputs": [],
   "source": []
  }
 ],
 "metadata": {
  "kernelspec": {
   "display_name": ".venv",
   "language": "python",
   "name": "python3"
  },
  "language_info": {
   "codemirror_mode": {
    "name": "ipython",
    "version": 3
   },
   "file_extension": ".py",
   "mimetype": "text/x-python",
   "name": "python",
   "nbconvert_exporter": "python",
   "pygments_lexer": "ipython3",
   "version": "3.12.7"
  }
 },
 "nbformat": 4,
 "nbformat_minor": 5
}
